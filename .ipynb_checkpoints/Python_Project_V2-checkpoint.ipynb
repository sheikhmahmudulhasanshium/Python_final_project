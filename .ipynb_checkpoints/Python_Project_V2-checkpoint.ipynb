{
 "cells": [
  {
   "cell_type": "markdown",
   "id": "815cb4b6",
   "metadata": {
    "id": "815cb4b6"
   },
   "source": [
    "### This is a classification model creating using real life dataset from kaggle. \n",
    "#### Data Source: https://www.kaggle.com/datasets/johnsmith88/heart-disease-dataset "
   ]
  },
  {
   "cell_type": "markdown",
   "id": "4c05ba44",
   "metadata": {
    "id": "4c05ba44"
   },
   "source": [
    "## About Dataset:\n",
    "### Context \n",
    "This data set dates from 1988 and consists of four databases: Cleveland, Hungary, Switzerland, and Long Beach V. It contains 76 attributes, including the predicted attribute, but all published experiments refer to using a subset of 14 of them. The \"target\" field refers to the presence of heart disease in the patient. It is integer valued 0 = no disease and 1 = disease. There are 1025 data entities in the data table.\n",
    "### Content\n",
    "#### Attribute Information:\n",
    "    1.age(age in years)\n",
    "    2.sex(1 = male; 0 = female)\n",
    "    3.chest pain type (4 values 0=25%,1=50%,2=75%,3=100%, min=0,max=100)\n",
    "    4.resting blood pressure in mm Hg on admission to the hospital (Min=94,25%=120,50%=130,75%=140,Max=200)\n",
    "    5.serum cholestoral in mg/dl (126=Min,211=25%,240=50%,275=75%,564=Max)\n",
    "    6.fasting blood sugar > 120 mg/dl\n",
    "    7.resting electrocardiographic results (values 0,1,2)\n",
    "    8.maximum heart rate achieved (71=Min,132=25%,152=50%,166=75%,202=Max)\n",
    "    9.exercise induced angina\n",
    "    10.oldpeak = ST depression induced by exercise relative to rest (1 = yes; 0 = no)\n",
    "    11.the slope of the peak exercise ST segment\n",
    "    12.number of major vessels (0-3) colored by flourosopy\n",
    "    13.thal: 0 = normal; 1 = fixed defect; 2 = reversable defect\n",
    "The names and social security numbers of the patients were recently removed from the database, replaced with dummy values."
   ]
  },
  {
   "cell_type": "markdown",
   "id": "18a54c5b",
   "metadata": {
    "id": "18a54c5b"
   },
   "source": [
    "## Imports and Settings\n",
    " Here numpy, pandas libraries are used for database manupulation,\n",
    " matplotlib,seaborn libraries are used for data visualization and,\n",
    " scikit-learn library is used for machine leaning model creation,evaluation."
   ]
  },
  {
   "cell_type": "code",
   "execution_count": 1,
   "id": "2d25e013",
   "metadata": {
    "executionInfo": {
     "elapsed": 9,
     "status": "ok",
     "timestamp": 1659291256727,
     "user": {
      "displayName": "ali haidar",
      "userId": "14277892711535834123"
     },
     "user_tz": -360
    },
    "id": "2d25e013"
   },
   "outputs": [],
   "source": [
    "import numpy as np\n",
    "import pandas as pd\n",
    "# Visualization Libraries\n",
    "import matplotlib.pyplot as plt\n",
    "plt.style.use('seaborn-whitegrid')\n",
    "import seaborn as sns\n",
    "from sklearn import datasets # for using built-in datasets\n",
    "from sklearn import metrics # for checking the model accuracy\n",
    "#To plot the graph embedded in the notebook\n",
    "%matplotlib inline"
   ]
  },
  {
   "cell_type": "markdown",
   "id": "4c511485",
   "metadata": {
    "id": "4c511485"
   },
   "source": [
    "## loading dataset named \"heart.csv\""
   ]
  },
  {
   "cell_type": "code",
   "execution_count": 2,
   "id": "bd61ea1a",
   "metadata": {
    "colab": {
     "base_uri": "https://localhost:8080/",
     "height": 424
    },
    "executionInfo": {
     "elapsed": 52,
     "status": "ok",
     "timestamp": 1659291257422,
     "user": {
      "displayName": "ali haidar",
      "userId": "14277892711535834123"
     },
     "user_tz": -360
    },
    "id": "bd61ea1a",
    "outputId": "29944d5e-e5e0-42c2-e602-aa51aab9aeac"
   },
   "outputs": [
    {
     "data": {
      "text/html": [
       "<div>\n",
       "<style scoped>\n",
       "    .dataframe tbody tr th:only-of-type {\n",
       "        vertical-align: middle;\n",
       "    }\n",
       "\n",
       "    .dataframe tbody tr th {\n",
       "        vertical-align: top;\n",
       "    }\n",
       "\n",
       "    .dataframe thead th {\n",
       "        text-align: right;\n",
       "    }\n",
       "</style>\n",
       "<table border=\"1\" class=\"dataframe\">\n",
       "  <thead>\n",
       "    <tr style=\"text-align: right;\">\n",
       "      <th></th>\n",
       "      <th>age</th>\n",
       "      <th>sex</th>\n",
       "      <th>cp</th>\n",
       "      <th>trestbps</th>\n",
       "      <th>chol</th>\n",
       "      <th>fbs</th>\n",
       "      <th>restecg</th>\n",
       "      <th>thalach</th>\n",
       "      <th>exang</th>\n",
       "      <th>oldpeak</th>\n",
       "      <th>slope</th>\n",
       "      <th>ca</th>\n",
       "      <th>thal</th>\n",
       "      <th>target</th>\n",
       "    </tr>\n",
       "  </thead>\n",
       "  <tbody>\n",
       "    <tr>\n",
       "      <th>0</th>\n",
       "      <td>52</td>\n",
       "      <td>1</td>\n",
       "      <td>0</td>\n",
       "      <td>125</td>\n",
       "      <td>212</td>\n",
       "      <td>0</td>\n",
       "      <td>1</td>\n",
       "      <td>168</td>\n",
       "      <td>0</td>\n",
       "      <td>1.0</td>\n",
       "      <td>2</td>\n",
       "      <td>2</td>\n",
       "      <td>3</td>\n",
       "      <td>0</td>\n",
       "    </tr>\n",
       "    <tr>\n",
       "      <th>1</th>\n",
       "      <td>53</td>\n",
       "      <td>1</td>\n",
       "      <td>0</td>\n",
       "      <td>140</td>\n",
       "      <td>203</td>\n",
       "      <td>1</td>\n",
       "      <td>0</td>\n",
       "      <td>155</td>\n",
       "      <td>1</td>\n",
       "      <td>3.1</td>\n",
       "      <td>0</td>\n",
       "      <td>0</td>\n",
       "      <td>3</td>\n",
       "      <td>0</td>\n",
       "    </tr>\n",
       "    <tr>\n",
       "      <th>2</th>\n",
       "      <td>70</td>\n",
       "      <td>1</td>\n",
       "      <td>0</td>\n",
       "      <td>145</td>\n",
       "      <td>174</td>\n",
       "      <td>0</td>\n",
       "      <td>1</td>\n",
       "      <td>125</td>\n",
       "      <td>1</td>\n",
       "      <td>2.6</td>\n",
       "      <td>0</td>\n",
       "      <td>0</td>\n",
       "      <td>3</td>\n",
       "      <td>0</td>\n",
       "    </tr>\n",
       "    <tr>\n",
       "      <th>3</th>\n",
       "      <td>61</td>\n",
       "      <td>1</td>\n",
       "      <td>0</td>\n",
       "      <td>148</td>\n",
       "      <td>203</td>\n",
       "      <td>0</td>\n",
       "      <td>1</td>\n",
       "      <td>161</td>\n",
       "      <td>0</td>\n",
       "      <td>0.0</td>\n",
       "      <td>2</td>\n",
       "      <td>1</td>\n",
       "      <td>3</td>\n",
       "      <td>0</td>\n",
       "    </tr>\n",
       "    <tr>\n",
       "      <th>4</th>\n",
       "      <td>62</td>\n",
       "      <td>0</td>\n",
       "      <td>0</td>\n",
       "      <td>138</td>\n",
       "      <td>294</td>\n",
       "      <td>1</td>\n",
       "      <td>1</td>\n",
       "      <td>106</td>\n",
       "      <td>0</td>\n",
       "      <td>1.9</td>\n",
       "      <td>1</td>\n",
       "      <td>3</td>\n",
       "      <td>2</td>\n",
       "      <td>0</td>\n",
       "    </tr>\n",
       "    <tr>\n",
       "      <th>...</th>\n",
       "      <td>...</td>\n",
       "      <td>...</td>\n",
       "      <td>...</td>\n",
       "      <td>...</td>\n",
       "      <td>...</td>\n",
       "      <td>...</td>\n",
       "      <td>...</td>\n",
       "      <td>...</td>\n",
       "      <td>...</td>\n",
       "      <td>...</td>\n",
       "      <td>...</td>\n",
       "      <td>...</td>\n",
       "      <td>...</td>\n",
       "      <td>...</td>\n",
       "    </tr>\n",
       "    <tr>\n",
       "      <th>1020</th>\n",
       "      <td>59</td>\n",
       "      <td>1</td>\n",
       "      <td>1</td>\n",
       "      <td>140</td>\n",
       "      <td>221</td>\n",
       "      <td>0</td>\n",
       "      <td>1</td>\n",
       "      <td>164</td>\n",
       "      <td>1</td>\n",
       "      <td>0.0</td>\n",
       "      <td>2</td>\n",
       "      <td>0</td>\n",
       "      <td>2</td>\n",
       "      <td>1</td>\n",
       "    </tr>\n",
       "    <tr>\n",
       "      <th>1021</th>\n",
       "      <td>60</td>\n",
       "      <td>1</td>\n",
       "      <td>0</td>\n",
       "      <td>125</td>\n",
       "      <td>258</td>\n",
       "      <td>0</td>\n",
       "      <td>0</td>\n",
       "      <td>141</td>\n",
       "      <td>1</td>\n",
       "      <td>2.8</td>\n",
       "      <td>1</td>\n",
       "      <td>1</td>\n",
       "      <td>3</td>\n",
       "      <td>0</td>\n",
       "    </tr>\n",
       "    <tr>\n",
       "      <th>1022</th>\n",
       "      <td>47</td>\n",
       "      <td>1</td>\n",
       "      <td>0</td>\n",
       "      <td>110</td>\n",
       "      <td>275</td>\n",
       "      <td>0</td>\n",
       "      <td>0</td>\n",
       "      <td>118</td>\n",
       "      <td>1</td>\n",
       "      <td>1.0</td>\n",
       "      <td>1</td>\n",
       "      <td>1</td>\n",
       "      <td>2</td>\n",
       "      <td>0</td>\n",
       "    </tr>\n",
       "    <tr>\n",
       "      <th>1023</th>\n",
       "      <td>50</td>\n",
       "      <td>0</td>\n",
       "      <td>0</td>\n",
       "      <td>110</td>\n",
       "      <td>254</td>\n",
       "      <td>0</td>\n",
       "      <td>0</td>\n",
       "      <td>159</td>\n",
       "      <td>0</td>\n",
       "      <td>0.0</td>\n",
       "      <td>2</td>\n",
       "      <td>0</td>\n",
       "      <td>2</td>\n",
       "      <td>1</td>\n",
       "    </tr>\n",
       "    <tr>\n",
       "      <th>1024</th>\n",
       "      <td>54</td>\n",
       "      <td>1</td>\n",
       "      <td>0</td>\n",
       "      <td>120</td>\n",
       "      <td>188</td>\n",
       "      <td>0</td>\n",
       "      <td>1</td>\n",
       "      <td>113</td>\n",
       "      <td>0</td>\n",
       "      <td>1.4</td>\n",
       "      <td>1</td>\n",
       "      <td>1</td>\n",
       "      <td>3</td>\n",
       "      <td>0</td>\n",
       "    </tr>\n",
       "  </tbody>\n",
       "</table>\n",
       "<p>1025 rows × 14 columns</p>\n",
       "</div>"
      ],
      "text/plain": [
       "      age  sex  cp  trestbps  chol  fbs  restecg  thalach  exang  oldpeak  \\\n",
       "0      52    1   0       125   212    0        1      168      0      1.0   \n",
       "1      53    1   0       140   203    1        0      155      1      3.1   \n",
       "2      70    1   0       145   174    0        1      125      1      2.6   \n",
       "3      61    1   0       148   203    0        1      161      0      0.0   \n",
       "4      62    0   0       138   294    1        1      106      0      1.9   \n",
       "...   ...  ...  ..       ...   ...  ...      ...      ...    ...      ...   \n",
       "1020   59    1   1       140   221    0        1      164      1      0.0   \n",
       "1021   60    1   0       125   258    0        0      141      1      2.8   \n",
       "1022   47    1   0       110   275    0        0      118      1      1.0   \n",
       "1023   50    0   0       110   254    0        0      159      0      0.0   \n",
       "1024   54    1   0       120   188    0        1      113      0      1.4   \n",
       "\n",
       "      slope  ca  thal  target  \n",
       "0         2   2     3       0  \n",
       "1         0   0     3       0  \n",
       "2         0   0     3       0  \n",
       "3         2   1     3       0  \n",
       "4         1   3     2       0  \n",
       "...     ...  ..   ...     ...  \n",
       "1020      2   0     2       1  \n",
       "1021      1   1     3       0  \n",
       "1022      1   1     2       0  \n",
       "1023      2   0     2       1  \n",
       "1024      1   1     3       0  \n",
       "\n",
       "[1025 rows x 14 columns]"
      ]
     },
     "execution_count": 2,
     "metadata": {},
     "output_type": "execute_result"
    }
   ],
   "source": [
    "heart_df=pd.read_csv('heart.csv')\n",
    "heart_df"
   ]
  },
  {
   "cell_type": "code",
   "execution_count": 3,
   "id": "57469042",
   "metadata": {
    "colab": {
     "base_uri": "https://localhost:8080/"
    },
    "executionInfo": {
     "elapsed": 94,
     "status": "ok",
     "timestamp": 1659291257472,
     "user": {
      "displayName": "ali haidar",
      "userId": "14277892711535834123"
     },
     "user_tz": -360
    },
    "id": "57469042",
    "outputId": "8bf2606f-e479-4978-ef62-440afedb0ca7"
   },
   "outputs": [
    {
     "name": "stdout",
     "output_type": "stream",
     "text": [
      "<class 'pandas.core.frame.DataFrame'>\n",
      "RangeIndex: 1025 entries, 0 to 1024\n",
      "Data columns (total 14 columns):\n",
      " #   Column    Non-Null Count  Dtype  \n",
      "---  ------    --------------  -----  \n",
      " 0   age       1025 non-null   int64  \n",
      " 1   sex       1025 non-null   int64  \n",
      " 2   cp        1025 non-null   int64  \n",
      " 3   trestbps  1025 non-null   int64  \n",
      " 4   chol      1025 non-null   int64  \n",
      " 5   fbs       1025 non-null   int64  \n",
      " 6   restecg   1025 non-null   int64  \n",
      " 7   thalach   1025 non-null   int64  \n",
      " 8   exang     1025 non-null   int64  \n",
      " 9   oldpeak   1025 non-null   float64\n",
      " 10  slope     1025 non-null   int64  \n",
      " 11  ca        1025 non-null   int64  \n",
      " 12  thal      1025 non-null   int64  \n",
      " 13  target    1025 non-null   int64  \n",
      "dtypes: float64(1), int64(13)\n",
      "memory usage: 112.2 KB\n"
     ]
    }
   ],
   "source": [
    "heart_df.info()"
   ]
  },
  {
   "cell_type": "markdown",
   "id": "738d100b",
   "metadata": {
    "id": "738d100b"
   },
   "source": [
    "## Preprocessing"
   ]
  },
  {
   "cell_type": "code",
   "execution_count": 4,
   "id": "8b26e7af",
   "metadata": {
    "colab": {
     "base_uri": "https://localhost:8080/"
    },
    "executionInfo": {
     "elapsed": 93,
     "status": "ok",
     "timestamp": 1659291257476,
     "user": {
      "displayName": "ali haidar",
      "userId": "14277892711535834123"
     },
     "user_tz": -360
    },
    "id": "8b26e7af",
    "outputId": "a067132f-df35-42a5-c1d4-d37e5adb0427"
   },
   "outputs": [
    {
     "data": {
      "text/plain": [
       "age         0\n",
       "sex         0\n",
       "cp          0\n",
       "trestbps    0\n",
       "chol        0\n",
       "fbs         0\n",
       "restecg     0\n",
       "thalach     0\n",
       "exang       0\n",
       "oldpeak     0\n",
       "slope       0\n",
       "ca          0\n",
       "thal        0\n",
       "target      0\n",
       "dtype: int64"
      ]
     },
     "execution_count": 4,
     "metadata": {},
     "output_type": "execute_result"
    }
   ],
   "source": [
    "heart_df.isnull().sum()"
   ]
  },
  {
   "cell_type": "markdown",
   "id": "782bc843",
   "metadata": {
    "id": "782bc843"
   },
   "source": [
    "Since there is no missing value and the 0 value is used in various reason in the dataset which is essential and there is no abnormal data inside the dataframe so we did not need to delete any column from the dataset. For better understanding different class is labled instead of values."
   ]
  },
  {
   "cell_type": "code",
   "execution_count": 5,
   "id": "bd6eab91",
   "metadata": {
    "executionInfo": {
     "elapsed": 86,
     "status": "ok",
     "timestamp": 1659291257478,
     "user": {
      "displayName": "ali haidar",
      "userId": "14277892711535834123"
     },
     "user_tz": -360
    },
    "id": "bd6eab91"
   },
   "outputs": [],
   "source": [
    "#heart_df[\"target\"]=heart_df[\"target\"].replace([0,1],[\"no disease\",\"disease\"])\n",
    "#heart_df[\"sex\"]=heart_df[\"sex\"].replace([0,1],[\"female\",\"male\"])\n",
    "#heart_df[\"cp\"]=heart_df[\"cp\"].replace([0,1,2,3],[\"no pain\",\"mild pain\",\"moderate pain\",\"severe pain\"])\n",
    "#heart_df[\"thal\"]=heart_df[\"thal\"].replace([0,1,2],[\"normal\",\"fixed defect\",\"reversable defect\"])\n",
    "\n"
   ]
  },
  {
   "cell_type": "markdown",
   "id": "cdd16fd8",
   "metadata": {
    "id": "cdd16fd8"
   },
   "source": [
    "## Exploratory Data Analysis"
   ]
  },
  {
   "cell_type": "code",
   "execution_count": 6,
   "id": "ee8a1ea2",
   "metadata": {
    "colab": {
     "base_uri": "https://localhost:8080/",
     "height": 344
    },
    "executionInfo": {
     "elapsed": 526,
     "status": "ok",
     "timestamp": 1659291257920,
     "user": {
      "displayName": "ali haidar",
      "userId": "14277892711535834123"
     },
     "user_tz": -360
    },
    "id": "ee8a1ea2",
    "outputId": "ca49154d-b2ad-4149-ab66-772aea39fa07"
   },
   "outputs": [
    {
     "data": {
      "text/html": [
       "<div>\n",
       "<style scoped>\n",
       "    .dataframe tbody tr th:only-of-type {\n",
       "        vertical-align: middle;\n",
       "    }\n",
       "\n",
       "    .dataframe tbody tr th {\n",
       "        vertical-align: top;\n",
       "    }\n",
       "\n",
       "    .dataframe thead th {\n",
       "        text-align: right;\n",
       "    }\n",
       "</style>\n",
       "<table border=\"1\" class=\"dataframe\">\n",
       "  <thead>\n",
       "    <tr style=\"text-align: right;\">\n",
       "      <th></th>\n",
       "      <th>age</th>\n",
       "      <th>sex</th>\n",
       "      <th>cp</th>\n",
       "      <th>trestbps</th>\n",
       "      <th>chol</th>\n",
       "      <th>fbs</th>\n",
       "      <th>restecg</th>\n",
       "      <th>thalach</th>\n",
       "      <th>exang</th>\n",
       "      <th>oldpeak</th>\n",
       "      <th>slope</th>\n",
       "      <th>ca</th>\n",
       "      <th>thal</th>\n",
       "      <th>target</th>\n",
       "    </tr>\n",
       "  </thead>\n",
       "  <tbody>\n",
       "    <tr>\n",
       "      <th>count</th>\n",
       "      <td>1025.000000</td>\n",
       "      <td>1025.000000</td>\n",
       "      <td>1025.000000</td>\n",
       "      <td>1025.000000</td>\n",
       "      <td>1025.00000</td>\n",
       "      <td>1025.000000</td>\n",
       "      <td>1025.000000</td>\n",
       "      <td>1025.000000</td>\n",
       "      <td>1025.000000</td>\n",
       "      <td>1025.000000</td>\n",
       "      <td>1025.000000</td>\n",
       "      <td>1025.000000</td>\n",
       "      <td>1025.000000</td>\n",
       "      <td>1025.000000</td>\n",
       "    </tr>\n",
       "    <tr>\n",
       "      <th>mean</th>\n",
       "      <td>54.434146</td>\n",
       "      <td>0.695610</td>\n",
       "      <td>0.942439</td>\n",
       "      <td>131.611707</td>\n",
       "      <td>246.00000</td>\n",
       "      <td>0.149268</td>\n",
       "      <td>0.529756</td>\n",
       "      <td>149.114146</td>\n",
       "      <td>0.336585</td>\n",
       "      <td>1.071512</td>\n",
       "      <td>1.385366</td>\n",
       "      <td>0.754146</td>\n",
       "      <td>2.323902</td>\n",
       "      <td>0.513171</td>\n",
       "    </tr>\n",
       "    <tr>\n",
       "      <th>std</th>\n",
       "      <td>9.072290</td>\n",
       "      <td>0.460373</td>\n",
       "      <td>1.029641</td>\n",
       "      <td>17.516718</td>\n",
       "      <td>51.59251</td>\n",
       "      <td>0.356527</td>\n",
       "      <td>0.527878</td>\n",
       "      <td>23.005724</td>\n",
       "      <td>0.472772</td>\n",
       "      <td>1.175053</td>\n",
       "      <td>0.617755</td>\n",
       "      <td>1.030798</td>\n",
       "      <td>0.620660</td>\n",
       "      <td>0.500070</td>\n",
       "    </tr>\n",
       "    <tr>\n",
       "      <th>min</th>\n",
       "      <td>29.000000</td>\n",
       "      <td>0.000000</td>\n",
       "      <td>0.000000</td>\n",
       "      <td>94.000000</td>\n",
       "      <td>126.00000</td>\n",
       "      <td>0.000000</td>\n",
       "      <td>0.000000</td>\n",
       "      <td>71.000000</td>\n",
       "      <td>0.000000</td>\n",
       "      <td>0.000000</td>\n",
       "      <td>0.000000</td>\n",
       "      <td>0.000000</td>\n",
       "      <td>0.000000</td>\n",
       "      <td>0.000000</td>\n",
       "    </tr>\n",
       "    <tr>\n",
       "      <th>25%</th>\n",
       "      <td>48.000000</td>\n",
       "      <td>0.000000</td>\n",
       "      <td>0.000000</td>\n",
       "      <td>120.000000</td>\n",
       "      <td>211.00000</td>\n",
       "      <td>0.000000</td>\n",
       "      <td>0.000000</td>\n",
       "      <td>132.000000</td>\n",
       "      <td>0.000000</td>\n",
       "      <td>0.000000</td>\n",
       "      <td>1.000000</td>\n",
       "      <td>0.000000</td>\n",
       "      <td>2.000000</td>\n",
       "      <td>0.000000</td>\n",
       "    </tr>\n",
       "    <tr>\n",
       "      <th>50%</th>\n",
       "      <td>56.000000</td>\n",
       "      <td>1.000000</td>\n",
       "      <td>1.000000</td>\n",
       "      <td>130.000000</td>\n",
       "      <td>240.00000</td>\n",
       "      <td>0.000000</td>\n",
       "      <td>1.000000</td>\n",
       "      <td>152.000000</td>\n",
       "      <td>0.000000</td>\n",
       "      <td>0.800000</td>\n",
       "      <td>1.000000</td>\n",
       "      <td>0.000000</td>\n",
       "      <td>2.000000</td>\n",
       "      <td>1.000000</td>\n",
       "    </tr>\n",
       "    <tr>\n",
       "      <th>75%</th>\n",
       "      <td>61.000000</td>\n",
       "      <td>1.000000</td>\n",
       "      <td>2.000000</td>\n",
       "      <td>140.000000</td>\n",
       "      <td>275.00000</td>\n",
       "      <td>0.000000</td>\n",
       "      <td>1.000000</td>\n",
       "      <td>166.000000</td>\n",
       "      <td>1.000000</td>\n",
       "      <td>1.800000</td>\n",
       "      <td>2.000000</td>\n",
       "      <td>1.000000</td>\n",
       "      <td>3.000000</td>\n",
       "      <td>1.000000</td>\n",
       "    </tr>\n",
       "    <tr>\n",
       "      <th>max</th>\n",
       "      <td>77.000000</td>\n",
       "      <td>1.000000</td>\n",
       "      <td>3.000000</td>\n",
       "      <td>200.000000</td>\n",
       "      <td>564.00000</td>\n",
       "      <td>1.000000</td>\n",
       "      <td>2.000000</td>\n",
       "      <td>202.000000</td>\n",
       "      <td>1.000000</td>\n",
       "      <td>6.200000</td>\n",
       "      <td>2.000000</td>\n",
       "      <td>4.000000</td>\n",
       "      <td>3.000000</td>\n",
       "      <td>1.000000</td>\n",
       "    </tr>\n",
       "  </tbody>\n",
       "</table>\n",
       "</div>"
      ],
      "text/plain": [
       "               age          sex           cp     trestbps        chol  \\\n",
       "count  1025.000000  1025.000000  1025.000000  1025.000000  1025.00000   \n",
       "mean     54.434146     0.695610     0.942439   131.611707   246.00000   \n",
       "std       9.072290     0.460373     1.029641    17.516718    51.59251   \n",
       "min      29.000000     0.000000     0.000000    94.000000   126.00000   \n",
       "25%      48.000000     0.000000     0.000000   120.000000   211.00000   \n",
       "50%      56.000000     1.000000     1.000000   130.000000   240.00000   \n",
       "75%      61.000000     1.000000     2.000000   140.000000   275.00000   \n",
       "max      77.000000     1.000000     3.000000   200.000000   564.00000   \n",
       "\n",
       "               fbs      restecg      thalach        exang      oldpeak  \\\n",
       "count  1025.000000  1025.000000  1025.000000  1025.000000  1025.000000   \n",
       "mean      0.149268     0.529756   149.114146     0.336585     1.071512   \n",
       "std       0.356527     0.527878    23.005724     0.472772     1.175053   \n",
       "min       0.000000     0.000000    71.000000     0.000000     0.000000   \n",
       "25%       0.000000     0.000000   132.000000     0.000000     0.000000   \n",
       "50%       0.000000     1.000000   152.000000     0.000000     0.800000   \n",
       "75%       0.000000     1.000000   166.000000     1.000000     1.800000   \n",
       "max       1.000000     2.000000   202.000000     1.000000     6.200000   \n",
       "\n",
       "             slope           ca         thal       target  \n",
       "count  1025.000000  1025.000000  1025.000000  1025.000000  \n",
       "mean      1.385366     0.754146     2.323902     0.513171  \n",
       "std       0.617755     1.030798     0.620660     0.500070  \n",
       "min       0.000000     0.000000     0.000000     0.000000  \n",
       "25%       1.000000     0.000000     2.000000     0.000000  \n",
       "50%       1.000000     0.000000     2.000000     1.000000  \n",
       "75%       2.000000     1.000000     3.000000     1.000000  \n",
       "max       2.000000     4.000000     3.000000     1.000000  "
      ]
     },
     "execution_count": 6,
     "metadata": {},
     "output_type": "execute_result"
    }
   ],
   "source": [
    "heart_df.describe()"
   ]
  },
  {
   "cell_type": "markdown",
   "id": "0afbaa87",
   "metadata": {
    "id": "0afbaa87"
   },
   "source": [
    "### checking for bias"
   ]
  },
  {
   "cell_type": "code",
   "execution_count": 7,
   "id": "78b381bb",
   "metadata": {
    "colab": {
     "base_uri": "https://localhost:8080/"
    },
    "executionInfo": {
     "elapsed": 75,
     "status": "ok",
     "timestamp": 1659291257931,
     "user": {
      "displayName": "ali haidar",
      "userId": "14277892711535834123"
     },
     "user_tz": -360
    },
    "id": "78b381bb",
    "outputId": "32555eb9-3383-49d9-b0da-be1436923e5b"
   },
   "outputs": [
    {
     "data": {
      "text/plain": [
       "target\n",
       "0    499\n",
       "1    526\n",
       "dtype: int64"
      ]
     },
     "execution_count": 7,
     "metadata": {},
     "output_type": "execute_result"
    }
   ],
   "source": [
    "heart_df.groupby(\"target\").size()"
   ]
  },
  {
   "cell_type": "markdown",
   "id": "baae4edc",
   "metadata": {
    "id": "baae4edc"
   },
   "source": [
    "Since the number of no disease and disease are not equal but the difference is very small.There might be very negligible bias toward having diabetes."
   ]
  },
  {
   "cell_type": "code",
   "execution_count": 8,
   "id": "eaadae08",
   "metadata": {
    "colab": {
     "base_uri": "https://localhost:8080/",
     "height": 291
    },
    "executionInfo": {
     "elapsed": 68,
     "status": "ok",
     "timestamp": 1659291257932,
     "user": {
      "displayName": "ali haidar",
      "userId": "14277892711535834123"
     },
     "user_tz": -360
    },
    "id": "eaadae08",
    "outputId": "11a05323-6b84-4566-dec2-f769f30c4d0d"
   },
   "outputs": [
    {
     "data": {
      "image/png": "[encoded data removed]",
      "text/plain": [
       "<Figure size 432x288 with 1 Axes>"
      ]
     },
     "metadata": {
      "needs_background": "light"
     },
     "output_type": "display_data"
    }
   ],
   "source": [
    "# let's visualise the number of samples for each class with count plot\n",
    "sns.countplot(x='target', data=heart_df)\n",
    "plt.title(\"Number of samples for people having diabetic and no disease\");"
   ]
  },
  {
   "cell_type": "markdown",
   "id": "2e370344",
   "metadata": {
    "id": "2e370344"
   },
   "source": [
    "* Next, letʼs make a correlation matrix to quantitatively examine the relationship between variables.\n",
    "* If there are features and many of the features are highly correlated, then training an algorithm with all the featues will reduce the accuracy. Thus features selection should be done carefully. This dataset has less featues but still we will see the correlation.\n",
    "* The correlation matrix can be formed by using the corr function from the pandas library.\n",
    "* The correlation coefficient ranges from -1 to 1 . If the value is close to 1 , it means that there is a strong positive correlation between the two variables. When it is close to -1 , the variables have a strong negative correlation.\n",
    "* Then, we will use the heatmap function from the seaborn library to plot the correlation matrix."
   ]
  },
  {
   "cell_type": "code",
   "execution_count": 9,
   "id": "73fc8f79",
   "metadata": {
    "colab": {
     "base_uri": "https://localhost:8080/",
     "height": 400
    },
    "executionInfo": {
     "elapsed": 1631,
     "status": "ok",
     "timestamp": 1659291259498,
     "user": {
      "displayName": "ali haidar",
      "userId": "14277892711535834123"
     },
     "user_tz": -360
    },
    "id": "73fc8f79",
    "outputId": "0ebdb885-f29b-40b9-fdf6-7a4a09733a23"
   },
   "outputs": [
    {
     "data": {
      "image/png": "[encoded data removed]",
      "text/plain": [
       "<Figure size 648x432 with 2 Axes>"
      ]
     },
     "metadata": {
      "needs_background": "light"
     },
     "output_type": "display_data"
    }
   ],
   "source": [
    "correlation_matrix = heart_df.corr().round(2)\n",
    "# changing the figure size\n",
    "plt.figure(figsize = (9, 6))\n",
    "# \"annot = True\" to print the values inside the square\n",
    "sns.heatmap(data=correlation_matrix, annot=True);"
   ]
  },
  {
   "cell_type": "markdown",
   "id": "4953de08",
   "metadata": {
    "id": "4953de08"
   },
   "source": [
    "Reducing the diagonal values since they indicate the relationship between ownself.Again upper/lower triangle can be reduced since they means the same relationships\n"
   ]
  },
  {
   "cell_type": "code",
   "execution_count": 10,
   "id": "9ea425b3",
   "metadata": {
    "colab": {
     "base_uri": "https://localhost:8080/",
     "height": 396
    },
    "executionInfo": {
     "elapsed": 31,
     "status": "ok",
     "timestamp": 1659291260461,
     "user": {
      "displayName": "ali haidar",
      "userId": "14277892711535834123"
     },
     "user_tz": -360
    },
    "id": "9ea425b3",
    "outputId": "c668ceb2-515d-4347-85ba-4c230758bf94"
   },
   "outputs": [
    {
     "data": {
      "image/png": "[encoded data removed]",
      "text/plain": [
       "<Figure size 648x432 with 2 Axes>"
      ]
     },
     "metadata": {
      "needs_background": "light"
     },
     "output_type": "display_data"
    }
   ],
   "source": [
    "# Steps to remove redundant values\n",
    "# Return a array filled with zeros\n",
    "mask = np.zeros_like(correlation_matrix)\n",
    "# Return the indices for the upper-triangle of array\n",
    "mask[np.triu_indices_from(mask)] = True\n",
    "# changing the figure size\n",
    "plt.figure(figsize = (9, 6))\n",
    "# \"annot = True\" to print the values inside the square\n",
    "sns.heatmap(data=correlation_matrix, annot=True, mask=mask);"
   ]
  },
  {
   "cell_type": "markdown",
   "id": "9ba5847e",
   "metadata": {
    "id": "9ba5847e"
   },
   "source": [
    "Here, Tends to 0(eg:-0.4) is weakly related \n",
    "\n",
    "and tends to +/-1(eg: 0.7) means weakly related."
   ]
  },
  {
   "cell_type": "code",
   "execution_count": null,
   "id": "253b5ec8",
   "metadata": {
    "colab": {
     "base_uri": "https://localhost:8080/",
     "height": 1000
    },
    "executionInfo": {
     "elapsed": 114411,
     "status": "ok",
     "timestamp": 1659291374852,
     "user": {
      "displayName": "ali haidar",
      "userId": "14277892711535834123"
     },
     "user_tz": -360
    },
    "id": "253b5ec8",
    "outputId": "c9dc1672-18ab-4626-f66c-17e2fb67efe9",
    "scrolled": true
   },
   "outputs": [],
   "source": [
    "# let's create pairplot to visualise the data for each pair of attributes\n",
    "sns.pairplot(heart_df, hue=\"target\",height=2, palette = 'colorblind');"
   ]
  },
  {
   "cell_type": "code",
   "execution_count": null,
   "id": "5fa37a07",
   "metadata": {
    "colab": {
     "base_uri": "https://localhost:8080/",
     "height": 262
    },
    "executionInfo": {
     "elapsed": 1248,
     "status": "ok",
     "timestamp": 1659291375986,
     "user": {
      "displayName": "ali haidar",
      "userId": "14277892711535834123"
     },
     "user_tz": -360
    },
    "id": "5fa37a07",
    "outputId": "cc6c20cb-9dd5-431e-eeb0-ee7981f44a13"
   },
   "outputs": [],
   "source": [
    "from pandas.plotting import parallel_coordinates\n",
    "parallel_coordinates(heart_df, \"target\", color = ['blue', 'red']);\n"
   ]
  },
  {
   "cell_type": "markdown",
   "id": "4sYWXf9ojDEg",
   "metadata": {
    "id": "4sYWXf9ojDEg"
   },
   "source": [
    "**Create Features Matrix & Target Variable**"
   ]
  },
  {
   "cell_type": "code",
   "execution_count": null,
   "id": "aadc438d",
   "metadata": {
    "colab": {
     "base_uri": "https://localhost:8080/",
     "height": 424
    },
    "executionInfo": {
     "elapsed": 450,
     "status": "ok",
     "timestamp": 1659291935293,
     "user": {
      "displayName": "ali haidar",
      "userId": "14277892711535834123"
     },
     "user_tz": -360
    },
    "id": "aadc438d",
    "outputId": "a83591f3-e2bc-4968-cc4a-8158c611353b"
   },
   "outputs": [],
   "source": [
    "X = heart_df[['sex', 'oldpeak', 'slope', 'thalach']]\n",
    "X"
   ]
  },
  {
   "cell_type": "code",
   "execution_count": null,
   "id": "62f2194d",
   "metadata": {
    "colab": {
     "base_uri": "https://localhost:8080/"
    },
    "executionInfo": {
     "elapsed": 427,
     "status": "ok",
     "timestamp": 1659291995052,
     "user": {
      "displayName": "ali haidar",
      "userId": "14277892711535834123"
     },
     "user_tz": -360
    },
    "id": "62f2194d",
    "outputId": "933e7d70-b8e4-40c2-e51a-f050a55ad657"
   },
   "outputs": [],
   "source": [
    "y = heart_df['target']\n",
    "y\n"
   ]
  },
  {
   "cell_type": "markdown",
   "id": "-CoAgdnfiZjG",
   "metadata": {
    "id": "-CoAgdnfiZjG"
   },
   "source": [
    "**Split the dataset**"
   ]
  },
  {
   "cell_type": "code",
   "execution_count": null,
   "id": "Cdtgtee7gu2c",
   "metadata": {
    "colab": {
     "base_uri": "https://localhost:8080/"
    },
    "executionInfo": {
     "elapsed": 584,
     "status": "ok",
     "timestamp": 1659292029993,
     "user": {
      "displayName": "ali haidar",
      "userId": "14277892711535834123"
     },
     "user_tz": -360
    },
    "id": "Cdtgtee7gu2c",
    "outputId": "42698d92-0256-46f1-d213-752d9ce30d25"
   },
   "outputs": [],
   "source": [
    "#Create Model: Support Vector Machine (SVM)\n",
    "from sklearn.model_selection import train_test_split\n",
    "X_train, X_test, y_train, y_test = train_test_split(X, y, test_size = 0.3, random_state = 16)\n",
    "print(\"X_train shape: \", X_train.shape)\n",
    "print(\"X_test shape: \", X_test.shape)\n",
    "print(\"y_train shape: \", y_train.shape)\n",
    "print(\"y_test shape: \", y_test.shape)"
   ]
  },
  {
   "cell_type": "markdown",
   "id": "hRspgkzjif5A",
   "metadata": {
    "id": "hRspgkzjif5A"
   },
   "source": [
    "**Create Model: Support Vector Machine (SVM)**"
   ]
  },
  {
   "cell_type": "code",
   "execution_count": null,
   "id": "VakR0mBtg0oF",
   "metadata": {
    "colab": {
     "base_uri": "https://localhost:8080/"
    },
    "executionInfo": {
     "elapsed": 392,
     "status": "ok",
     "timestamp": 1659292048122,
     "user": {
      "displayName": "ali haidar",
      "userId": "14277892711535834123"
     },
     "user_tz": -360
    },
    "id": "VakR0mBtg0oF",
    "outputId": "d3d1382d-5e30-4cdd-ddb1-f718365a6122"
   },
   "outputs": [],
   "source": [
    " # importing the necessary package to use the classification algorithm\n",
    "from sklearn import svm #for Support Vector Machine (SVM) Algorithm\n",
    "model_svm = svm.SVC() #select the algorithm\n",
    "model_svm.fit(X_train, y_train) #train the model with the training dataset\n",
    "y_prediction_svm = model_svm.predict(X_test) # pass the testing data to the trained model\n",
    "# checking the accuracy of the algorithm. \n",
    "# by comparing predicted output by the model and the actual output\n",
    "score_svm = metrics.accuracy_score(y_prediction_svm, y_test).round(4)\n",
    "print(\"----------------------------------\")\n",
    "print('The accuracy of the SVM is: {}'.format(score_svm))\n",
    "print(\"----------------------------------\")\n",
    "# save the accuracy score\n",
    "score = set()\n",
    "score.add(('SVM', score_svm))"
   ]
  },
  {
   "cell_type": "markdown",
   "id": "LBOqLmMmiqGt",
   "metadata": {
    "id": "LBOqLmMmiqGt"
   },
   "source": [
    "**Create Model: Decision Tree**"
   ]
  },
  {
   "cell_type": "code",
   "execution_count": null,
   "id": "HMdT-SA4hB4M",
   "metadata": {
    "colab": {
     "base_uri": "https://localhost:8080/"
    },
    "executionInfo": {
     "elapsed": 405,
     "status": "ok",
     "timestamp": 1659292112235,
     "user": {
      "displayName": "ali haidar",
      "userId": "14277892711535834123"
     },
     "user_tz": -360
    },
    "id": "HMdT-SA4hB4M",
    "outputId": "5703f006-037c-4919-9bb8-9efbdc14f167"
   },
   "outputs": [],
   "source": [
    " # importing the necessary package to use the classification algorithm\n",
    "from sklearn.tree import DecisionTreeClassifier #for using Decision Tree Algoithm\n",
    "model_dt = DecisionTreeClassifier(random_state=4)\n",
    "model_dt.fit(X_train, y_train) #train the model with the training dataset\n",
    "y_prediction_dt = model_dt.predict(X_test) #pass the testing data to the trained model\n",
    "# checking the accuracy of the algorithm. \n",
    "# by comparing predicted output by the model and the actual output\n",
    "score_dt = metrics.accuracy_score(y_prediction_dt, y_test).round(4)\n",
    "print(\"---------------------------------\")\n",
    "print('The accuracy of the DT is: {}'.format(score_dt))\n",
    "print(\"---------------------------------\")\n",
    "# save the accuracy score\n",
    "score.add(('DT', score_dt))"
   ]
  },
  {
   "cell_type": "markdown",
   "id": "IHqs0DAvkQvI",
   "metadata": {
    "id": "IHqs0DAvkQvI"
   },
   "source": [
    "**Create Model: K Nearest Neighbours (KNN)**"
   ]
  },
  {
   "cell_type": "code",
   "execution_count": null,
   "id": "Lf59nEapitxl",
   "metadata": {
    "colab": {
     "base_uri": "https://localhost:8080/"
    },
    "executionInfo": {
     "elapsed": 473,
     "status": "ok",
     "timestamp": 1659292938774,
     "user": {
      "displayName": "ali haidar",
      "userId": "14277892711535834123"
     },
     "user_tz": -360
    },
    "id": "Lf59nEapitxl",
    "outputId": "d965b601-b9ed-46f8-d0c0-2afaadbb0a17"
   },
   "outputs": [],
   "source": [
    "# importing the necessary package to use the classification algorithm\n",
    "from sklearn.neighbors import KNeighborsClassifier # for K nearest neighbours\n",
    "#from sklearn.linear_model import LogisticRegression # for Logistic Regression algorithm\n",
    "model_knn = KNeighborsClassifier(n_neighbors=3) # 3 neighbours for putting the new data into a class\n",
    "model_knn.fit(X_train, y_train) #train the model with the training dataset\n",
    "y_prediction_knn = model_knn.predict(X_test) #pass the testing data to the trained model\n",
    "# checking the accuracy of the algorithm. \n",
    "# by comparing predicted output by the model and the actual output\n",
    "score_knn = metrics.accuracy_score(y_prediction_knn, y_test).round(4)\n",
    "print(\"----------------------------------\")\n",
    "print('The accuracy of the KNN is: {}'.format(score_knn))\n",
    "print(\"----------------------------------\")\n",
    "# save the accuracy score\n",
    "score.add(('KNN', score_knn))\n"
   ]
  },
  {
   "cell_type": "markdown",
   "id": "AndbKZt9iuFy",
   "metadata": {
    "id": "AndbKZt9iuFy"
   },
   "source": [
    "**Create Model: Logistic Regression**"
   ]
  },
  {
   "cell_type": "code",
   "execution_count": null,
   "id": "5AyHEJUqhRYI",
   "metadata": {
    "colab": {
     "base_uri": "https://localhost:8080/"
    },
    "executionInfo": {
     "elapsed": 555,
     "status": "ok",
     "timestamp": 1659292962741,
     "user": {
      "displayName": "ali haidar",
      "userId": "14277892711535834123"
     },
     "user_tz": -360
    },
    "id": "5AyHEJUqhRYI",
    "outputId": "5d8041a2-5c6c-400b-a158-9969fd84585e"
   },
   "outputs": [],
   "source": [
    " # importing the necessary package to use the classification algorithm\n",
    "from sklearn.linear_model import LogisticRegression # for Logistic Regression algorithm\n",
    "model_lr = LogisticRegression()\n",
    "model_lr.fit(X_train, y_train) #train the model with the training dataset\n",
    "y_prediction_lr = model_lr.predict(X_test) #pass the testing data to the trained model\n",
    "# checking the accuracy of the algorithm. \n",
    "# by comparing predicted output by the model and the actual output\n",
    "score_lr = metrics.accuracy_score(y_prediction_lr, y_test).round(4)\n",
    "print(\"---------------------------------\")\n",
    "print('The accuracy of the LR is: {}'.format(score_lr))\n",
    "print(\"---------------------------------\")\n",
    "# save the accuracy score\n",
    "score.add(('LR', score_lr))"
   ]
  },
  {
   "cell_type": "markdown",
   "id": "GAw56TS6izAu",
   "metadata": {
    "id": "GAw56TS6izAu"
   },
   "source": [
    "**Create Model: Naive Bayes**"
   ]
  },
  {
   "cell_type": "code",
   "execution_count": null,
   "id": "c6WCXIYShXP5",
   "metadata": {
    "colab": {
     "base_uri": "https://localhost:8080/"
    },
    "executionInfo": {
     "elapsed": 36,
     "status": "ok",
     "timestamp": 1659292966688,
     "user": {
      "displayName": "ali haidar",
      "userId": "14277892711535834123"
     },
     "user_tz": -360
    },
    "id": "c6WCXIYShXP5",
    "outputId": "0163f113-9699-45b1-85bd-4729b9c08f1c"
   },
   "outputs": [],
   "source": [
    " # importing the necessary package to use the classification algorithm\n",
    "from sklearn.naive_bayes import GaussianNB\n",
    "model_nb = GaussianNB()\n",
    "model_nb.fit(X_train, y_train) #train the model with the training dataset\n",
    "y_prediction_nb = model_nb.predict(X_test) #pass the testing data to the trained model\n",
    "# checking the accuracy of the algorithm. \n",
    "# by comparing predicted output by the model and the actual output\n",
    "score_nb = metrics.accuracy_score(y_prediction_nb, y_test).round(4)\n",
    "print(\"---------------------------------\")\n",
    "print('The accuracy of the NB is: {}'.format(score_nb))\n",
    "print(\"---------------------------------\")\n",
    "# save the accuracy score\n",
    "score.add(('NB', score_nb))"
   ]
  },
  {
   "cell_type": "markdown",
   "id": "tsdksfHoi3Gb",
   "metadata": {
    "id": "tsdksfHoi3Gb"
   },
   "source": [
    "**Compare Accuracy Score of Different Models**"
   ]
  },
  {
   "cell_type": "code",
   "execution_count": null,
   "id": "e3-ZJGIrhecr",
   "metadata": {
    "colab": {
     "base_uri": "https://localhost:8080/"
    },
    "executionInfo": {
     "elapsed": 464,
     "status": "ok",
     "timestamp": 1659292970926,
     "user": {
      "displayName": "ali haidar",
      "userId": "14277892711535834123"
     },
     "user_tz": -360
    },
    "id": "e3-ZJGIrhecr",
    "outputId": "d2cd8a05-ddef-45b6-f092-585989438840"
   },
   "outputs": [],
   "source": [
    "print(\"The accuracy scores of different Models:\")\n",
    "print(\"----------------------------------------\")\n",
    "for s in score:\n",
    " print(s)\n"
   ]
  }
 ],
 "metadata": {
  "colab": {
   "collapsed_sections": [],
   "name": "Python_Project.ipynb",
   "provenance": []
  },
  "kernelspec": {
   "display_name": "Python 3 (ipykernel)",
   "language": "python",
   "name": "python3"
  },
  "language_info": {
   "codemirror_mode": {
    "name": "ipython",
    "version": 3
   },
   "file_extension": ".py",
   "mimetype": "text/x-python",
   "name": "python",
   "nbconvert_exporter": "python",
   "pygments_lexer": "ipython3",
   "version": "3.9.1"
  },
  "vscode": {
   "interpreter": {
    "hash": "8c43963db582bd7c82ca21f40421a5a85401b01cc14a5aa34b6959c6ddd9edf1"
   }
  }
 },
 "nbformat": 4,
 "nbformat_minor": 5
}
